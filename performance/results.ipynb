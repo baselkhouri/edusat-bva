{
 "cells": [
  {
   "cell_type": "markdown",
   "metadata": {},
   "source": [
    "## Imports"
   ]
  },
  {
   "cell_type": "code",
   "execution_count": null,
   "metadata": {},
   "outputs": [],
   "source": [
    "# All imports here!\n",
    "import pandas as pd\n",
    "\n",
    "import matplotlib.pyplot as plt\n",
    "import numpy as np\n",
    "\n"
   ]
  },
  {
   "cell_type": "markdown",
   "metadata": {},
   "source": [
    "## Data Export"
   ]
  },
  {
   "cell_type": "code",
   "execution_count": null,
   "metadata": {},
   "outputs": [],
   "source": [
    "# Read the data from the excel files\n",
    "bva_results = pd.read_excel('bva_results.xlsx')\n",
    "results_30m = pd.read_excel('30m_results.xlsx')\n",
    "results_60m = pd.read_excel('60m_results.xlsx')"
   ]
  },
  {
   "cell_type": "markdown",
   "metadata": {},
   "source": [
    "## Edusat-BVA Results"
   ]
  },
  {
   "cell_type": "markdown",
   "metadata": {},
   "source": [
    "The benchmark on which the performance is tested is the SAT23 competition benchmark.\n",
    "We will present graphs for two types of runs:\n",
    "1. CNFs that required at most 30 minutes.\n",
    "2. CNFs that required at least 30 minutes and at most 60 minutes."
   ]
  },
  {
   "cell_type": "code",
   "execution_count": null,
   "metadata": {},
   "outputs": [],
   "source": [
    "# The 30 minute database and the 60 minute database have the same columns\n",
    "# Filter both of thems to only have the rows with the value of \"Improvement Factor\" != 1.\n",
    "# After filtering the rows in both databse, create a new database with the rows that are in both databases.\n",
    "\n",
    "results_30m_filtered = results_30m[results_30m['Improvement Factor'] != 1]\n",
    "results_60m_filtered = results_60m[results_60m['Improvement Factor'] != 1]\n",
    "\n",
    "mutual_values_in_30m = results_30m_filtered[results_30m_filtered['test'].isin(results_60m_filtered['test'])]\n",
    "mutual_values_in_60m = results_60m_filtered[results_60m_filtered['test'].isin(results_30m_filtered['test'])]\n",
    "\n",
    "# Add a check that checks if the mutual_values_in_30m and mutual_values_in_60m are empty or not\n",
    "# If they are empty, print \"No mutual values found\"\n",
    "# If they are not empty, print the number of mutual values found\n",
    "\n",
    "if mutual_values_in_30m.empty and mutual_values_in_60m.empty:\n",
    "    print(\"No mutual values found\")\n",
    "else:\n",
    "    print(f\"{len(mutual_values_in_30m)} mutual values found\")\n",
    "\n",
    "results = pd.concat([results_30m_filtered, results_60m_filtered])\n",
    "assert results.shape[0] == results_30m_filtered.shape[0] + results_60m_filtered.shape[0]\n",
    "\n",
    "columns_to_convert = [\n",
    "    'EDUSAT-BVA_clauses_reduced',\n",
    "    'EDUSAT-BVA_clauses_added',\n",
    "    'EDUSAT-BVA_clauses_deleted',\n",
    "    'EDUSAT-BVA_auxiliary_variables'\n",
    "]\n",
    "\n",
    "for col in columns_to_convert:\n",
    "    # If there's no value, put 0\n",
    "    results[col] = results[col].fillna(0)\n",
    "    results[col] = results[col].astype(int)\n"
   ]
  },
  {
   "cell_type": "code",
   "execution_count": null,
   "metadata": {},
   "outputs": [],
   "source": [
    "def survival_plot(results):\n",
    "    fig, ax = plt.subplots()\n",
    "    ax.set_xlabel('Number of tests solved')\n",
    "    ax.set_ylabel('Time (s)')\n",
    "    ax.set_title('Survival plot of the Results')\n",
    "    \n",
    "    # Sorting the results\n",
    "    edusat_sorted = np.sort(results['EDUSAT_solve_time'])\n",
    "    edusat_bva_sorted = np.sort(results['EDUSAT-BVA_solve_time'])\n",
    "    \n",
    "    # Generating x values (1, 2, ..., N)\n",
    "    x_values = np.arange(1, len(edusat_sorted) + 1)\n",
    "    \n",
    "    ax.set_xticks(np.arange(0, len(edusat_sorted) + 1, 5))\n",
    "    ax.set_yticks(np.arange(0, 4001, 600))\n",
    "    \n",
    "    ax.plot(x_values, edusat_sorted, marker='o', label='EDUSAT')\n",
    "    ax.plot(x_values, edusat_bva_sorted, marker='o', label='EDUSAT-BVA')\n",
    "    ax.legend()\n",
    "    plt.show()\n",
    "\n",
    "survival_plot(results)"
   ]
  },
  {
   "cell_type": "code",
   "execution_count": null,
   "metadata": {},
   "outputs": [],
   "source": [
    "def scatter_plot(results, x_key='EDUSAT_solve_time', y_key='EDUSAT-BVA_solve_time', x_label=None, y_label=None, title='Scatter plot comparison', min_time_filter=None):\n",
    "    fig, ax = plt.subplots()\n",
    "    ax.set_xlabel(x_label if x_label else x_key.replace('_', ' ').title())\n",
    "    ax.set_ylabel(y_label if y_label else y_key.replace('_', ' ').title())\n",
    "    ax.set_title(title)\n",
    "    \n",
    "    x_times = results[x_key]\n",
    "    y_times = results[y_key]\n",
    "    \n",
    "    # Apply filtering if min_time_filter is provided\n",
    "    if min_time_filter is not None:\n",
    "        mask = (x_times >= min_time_filter) | (y_times >= min_time_filter)\n",
    "        x_times = x_times[mask]\n",
    "        y_times = y_times[mask]\n",
    "    \n",
    "    ax.scatter(x_times, y_times, alpha=0.6)\n",
    "    max_time = max(x_times.max(), y_times.max())\n",
    "    ax.plot([0, max_time], [0, max_time], linestyle='dashed', color='red', label='y=x')\n",
    "    \n",
    "    # Counting points above and below the line\n",
    "    above_line = np.sum(x_times > y_times)\n",
    "    below_line = np.sum(x_times < y_times)\n",
    "\n",
    "    # Printing overall points on the plot\n",
    "    ax.text(max_time * 0.8, max_time * 0.1, f'Total points: {len(x_times)}')\n",
    "    \n",
    "    # Printing counts instead of displaying on the graph\n",
    "    print(f'{x_key} better: {above_line}')\n",
    "    print(f'{y_key} better: {below_line}')\n",
    "    \n",
    "    ax.legend()\n",
    "    plt.show()"
   ]
  },
  {
   "cell_type": "code",
   "execution_count": null,
   "metadata": {},
   "outputs": [],
   "source": [
    "# Compare EDUSAT_solve_time with EDUSAT-BVA_solve_time\n",
    "scatter_plot(results, 'EDUSAT_solve_time', 'EDUSAT-BVA_solve_time', \n",
    "             'EDUSAT Solve Time (s)', 'EDUSAT-BVA Solve Time (s)', \n",
    "             'EDUSAT vs EDUSAT-BVA Solve')"
   ]
  },
  {
   "cell_type": "code",
   "execution_count": null,
   "metadata": {},
   "outputs": [],
   "source": [
    "# Compare EDUSAT_solve_time with EDUSAT-BVA_search_time\n",
    "scatter_plot(results, 'EDUSAT_solve_time', 'EDUSAT-BVA_search_time', \n",
    "             'EDUSAT Solve Time (s)', 'EDUSAT-BVA Search Time (s)', \n",
    "             'EDUSAT vs EDUSAT-BVA Search')"
   ]
  },
  {
   "cell_type": "markdown",
   "metadata": {},
   "source": [
    "We'll present the same scatter plots while filtering all the results under 10 seconds!"
   ]
  },
  {
   "cell_type": "code",
   "execution_count": null,
   "metadata": {},
   "outputs": [],
   "source": [
    "# Compare EDUSAT_solve_time with EDUSAT-BVA_solve_time, filtering out tests solved in under 10 seconds\n",
    "scatter_plot(results, 'EDUSAT_solve_time', 'EDUSAT-BVA_solve_time', \n",
    "             'EDUSAT Solve Time (s)', 'EDUSAT-BVA Solve Time (s)', \n",
    "             'EDUSAT vs EDUSAT-BVA Solve', min_time_filter=60)\n",
    "\n",
    "# Compare EDUSAT_solve_time with EDUSAT-BVA_search_time, filtering out tests solved in under 10 seconds\n",
    "scatter_plot(results, 'EDUSAT_solve_time', 'EDUSAT-BVA_search_time', \n",
    "             'EDUSAT Solve Time (s)', 'EDUSAT-BVA Search Time (s)', \n",
    "             'EDUSAT vs EDUSAT-BVA Search', min_time_filter=60)"
   ]
  },
  {
   "cell_type": "markdown",
   "metadata": {},
   "source": [
    "We'll present below the most notable gains and regressions"
   ]
  },
  {
   "cell_type": "code",
   "execution_count": null,
   "metadata": {},
   "outputs": [],
   "source": [
    "def print_rows(df):\n",
    "    # Rename only the specified columns\n",
    "    column_rename_map = {\n",
    "        'EDUSAT_solve_time': 'EDUSAT (s)',\n",
    "        'EDUSAT-BVA_solve_time': 'EDUSAT-BVA (s)',\n",
    "        'EDUSAT-BVA_clauses_reduced': 'Clauses Reduced',\n",
    "        'EDUSAT-BVA_auxiliary_variables': 'Extra Vars',\n",
    "        'Improvement Factor': 'Improvement Factor'\n",
    "    }\n",
    "\n",
    "    df.rename(columns=column_rename_map, inplace=True)\n",
    "\n",
    "    # Select only the renamed columns for display\n",
    "    selected_columns = list(column_rename_map.values())\n",
    "\n",
    "    display(\n",
    "        df[selected_columns]\n",
    "        .style.set_table_styles(\n",
    "            [\n",
    "                {\"selector\": \"th\", \"props\": [(\"text-align\", \"center\")]},  # Center headers\n",
    "                {\"selector\": \"td\", \"props\": [(\"text-align\", \"center\")]}   # Center cell values\n",
    "            ]\n",
    "        )\n",
    "        .set_caption(\"Top 10 Results\")\n",
    "        .set_properties(**{\"text-align\": \"center\"})  # Ensure pandas recognizes the alignment\n",
    "    )"
   ]
  },
  {
   "cell_type": "code",
   "execution_count": null,
   "metadata": {},
   "outputs": [],
   "source": [
    "top = results.nlargest(10, 'Improvement Factor').copy()\n",
    "print_rows(top)"
   ]
  },
  {
   "cell_type": "code",
   "execution_count": null,
   "metadata": {},
   "outputs": [],
   "source": [
    "bottom = results.nsmallest(10, 'Improvement Factor').copy()\n",
    "print_rows(bottom)"
   ]
  },
  {
   "cell_type": "markdown",
   "metadata": {},
   "source": [
    "Finally, we'll draw a graph that represents the ration between the preprocessing time and the total solve time for relevant EDUSAT-BVA results."
   ]
  },
  {
   "cell_type": "code",
   "execution_count": null,
   "metadata": {},
   "outputs": [],
   "source": [
    "def plot_preprocessing_ratio(results):\n",
    "    \"\"\"\n",
    "    Plots the ratio of preprocessing time to total solve time for EDUSAT+BVA results.\n",
    "\n",
    "    Parameters:\n",
    "        results (pd.DataFrame): DataFrame containing 'EDUSAT-BVA_solve_time' and 'EDUSAT-BVA_preprocessing_time' columns.\n",
    "    \"\"\"\n",
    "    # Compute the ratio without creating an extra column\n",
    "    ratios = results['EDUSAT-BVA_preprocessing_time'] / results['EDUSAT-BVA_solve_time']\n",
    "\n",
    "    # Create the histogram\n",
    "    plt.figure(figsize=(8, 5))\n",
    "    plt.hist(ratios, bins=20, edgecolor='black', alpha=0.7)\n",
    "\n",
    "    # Labels and title\n",
    "    plt.xlabel('Preprocessing Time / Total Solve Time')\n",
    "    plt.ylabel('Frequency')\n",
    "    plt.title('Distribution of Preprocessing Time Ratio in EDUSAT+BVA')\n",
    "    \n",
    "    # Show the plot\n",
    "    plt.show()\n"
   ]
  },
  {
   "cell_type": "code",
   "execution_count": null,
   "metadata": {},
   "outputs": [],
   "source": [
    "plot_preprocessing_ratio(results)"
   ]
  }
 ],
 "metadata": {
  "kernelspec": {
   "display_name": "Python 3",
   "language": "python",
   "name": "python3"
  },
  "language_info": {
   "codemirror_mode": {
    "name": "ipython",
    "version": 3
   },
   "file_extension": ".py",
   "mimetype": "text/x-python",
   "name": "python",
   "nbconvert_exporter": "python",
   "pygments_lexer": "ipython3",
   "version": "3.9.6"
  }
 },
 "nbformat": 4,
 "nbformat_minor": 2
}
