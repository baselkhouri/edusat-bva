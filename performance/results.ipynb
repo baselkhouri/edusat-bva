{
 "cells": [
  {
   "cell_type": "markdown",
   "metadata": {},
   "source": [
    "## Imports"
   ]
  },
  {
   "cell_type": "code",
   "execution_count": null,
   "metadata": {},
   "outputs": [],
   "source": [
    "# All imports here!\n",
    "import pandas as pd\n",
    "\n",
    "import matplotlib.pyplot as plt\n",
    "import numpy as np"
   ]
  },
  {
   "cell_type": "markdown",
   "metadata": {},
   "source": [
    "## Data Export"
   ]
  },
  {
   "cell_type": "code",
   "execution_count": null,
   "metadata": {},
   "outputs": [],
   "source": [
    "# Read the data from the excel files\n",
    "bva_results = pd.read_excel('bva_results.xlsx')\n",
    "results_30m = pd.read_excel('30m_results.xlsx')\n",
    "results_60m = pd.read_excel('60m_results.xlsx')"
   ]
  },
  {
   "cell_type": "markdown",
   "metadata": {},
   "source": [
    "## Edusat-BVA Results"
   ]
  },
  {
   "cell_type": "markdown",
   "metadata": {},
   "source": [
    "The benchmark on which the performance is tested is the SAT23 competition benchmark.\n",
    "We will present graphs for two types of runs:\n",
    "1. CNFs that required at most 30 minutes.\n",
    "2. CNFs that required at least 30 minutes and at most 60 minutes."
   ]
  },
  {
   "cell_type": "code",
   "execution_count": null,
   "metadata": {},
   "outputs": [],
   "source": [
    "# The 30 minute database and the 60 minute database have the same columns\n",
    "# Filter both of thems to only have the rows with the value of \"Improvement Factor\" != 1.\n",
    "# After filtering the rows in both databse, create a new database with the rows that are in both databases.\n",
    "\n",
    "results_30m = results_30m[results_30m['Improvement Factor'] != 1]\n",
    "results_60m = results_60m[results_60m['Improvement Factor'] != 1]\n",
    "\n",
    "mutual_values_in_30m = results_30m[results_30m['test'].isin(results_60m['test'])]\n",
    "mutual_values_in_60m = results_60m[results_60m['test'].isin(results_30m['test'])]\n",
    "\n",
    "# Add a check that checks if the mutual_values_in_30m and mutual_values_in_60m are empty or not\n",
    "# If they are empty, print \"No mutual values found\"\n",
    "# If they are not empty, print the number of mutual values found\n",
    "\n",
    "if mutual_values_in_30m.empty and mutual_values_in_60m.empty:\n",
    "    print(\"No mutual values found\")\n",
    "else:\n",
    "    print(f\"{len(mutual_values_in_30m)} mutual values found\")\n",
    "\n",
    "columns_to_convert = [\n",
    "    'EDUSAT-BVA_clauses_reduced',\n",
    "    'EDUSAT-BVA_clauses_added',\n",
    "    'EDUSAT-BVA_clauses_deleted',\n",
    "    'EDUSAT-BVA_auxiliary_variables'\n",
    "]\n",
    "\n",
    "for col in columns_to_convert:\n",
    "    # If there's no value, put 0\n",
    "    results_30m[col] = results_30m[col].fillna(0)\n",
    "    results_60m[col] = results_60m[col].fillna(0)\n",
    "    results_30m[col] = results_30m[col].astype(int)\n",
    "    results_60m[col] = results_60m[col].astype(int)\n"
   ]
  },
  {
   "cell_type": "code",
   "execution_count": null,
   "metadata": {},
   "outputs": [],
   "source": [
    "def survival_plot(results, title):\n",
    "    fig, ax = plt.subplots()\n",
    "    ax.set_xlabel('Number of tests solved')\n",
    "    ax.set_ylabel('Time (s)')\n",
    "    ax.set_title(title)\n",
    "    \n",
    "    edusat_filtered = results[results['EDUSAT_timeout'] == 0]\n",
    "    # Sorting only the non-timeout results\n",
    "    edusat_sorted = np.sort(edusat_filtered['EDUSAT_solve_time'])\n",
    "\n",
    "    eudsat_bva_filtered = results[results['EDUSAT-BVA_timeout'] == 0]\n",
    "    # Sorting only the non-timeout results\n",
    "    edusat_bva_sorted = np.sort(eudsat_bva_filtered['EDUSAT-BVA_solve_time'])\n",
    "    \n",
    "    # Generating x values (1, 2, ..., N)\n",
    "    edusat_x_values = np.arange(1, len(edusat_sorted) + 1)\n",
    "    edusat_bva_x_values = np.arange(1, len(edusat_bva_sorted) + 1)\n",
    "    \n",
    "    ax.set_xticks(np.arange(0, len(edusat_sorted) + 1, 5))\n",
    "    ax.set_yticks(np.arange(0, 4001, 600))\n",
    "    \n",
    "    ax.plot(edusat_x_values, edusat_sorted, marker='o', label='EDUSAT')\n",
    "    ax.plot(edusat_bva_x_values, edusat_bva_sorted, marker='o', label='EDUSAT-BVA')\n",
    "    ax.legend()\n",
    "    plt.show()\n",
    "\n",
    "survival_plot(results_30m, 'EDUSAT vs EDUSAT-BVA (30m Timeout)')\n",
    "survival_plot(results_60m, 'EDUSAT vs EDUSAT-BVA (60m Timeout)')"
   ]
  },
  {
   "cell_type": "code",
   "execution_count": null,
   "metadata": {},
   "outputs": [],
   "source": [
    "def scatter_plot(results, x_key='EDUSAT_solve_time', y_key='EDUSAT-BVA_solve_time', x_label=None, y_label=None, title='Scatter plot comparison', min_time_filter=None):\n",
    "    fig, ax = plt.subplots()\n",
    "    ax.set_xlabel(x_label if x_label else x_key.replace('_', ' ').title())\n",
    "    ax.set_ylabel(y_label if y_label else y_key.replace('_', ' ').title())\n",
    "    ax.set_title(title)\n",
    "    \n",
    "    x_times = results[x_key]\n",
    "    y_times = results[y_key]\n",
    "\n",
    "    # print(list(x_times))\n",
    "    # print(list(y_times))\n",
    "    \n",
    "    # Apply filtering if min_time_filter is provided\n",
    "    if min_time_filter is not None:\n",
    "        mask = (x_times >= min_time_filter) | (y_times >= min_time_filter)\n",
    "        x_times = x_times[mask]\n",
    "        y_times = y_times[mask]\n",
    "    \n",
    "    assert len(x_times) == len(y_times)\n",
    "\n",
    "    ax.scatter(x_times, y_times, alpha=0.6)\n",
    "    max_time = max(x_times.max(), y_times.max())\n",
    "    ax.plot([0, max_time], [0, max_time], linestyle='dashed', color='red', label='y=x')\n",
    "    \n",
    "    # Counting points above and below the line\n",
    "    above_line = y_times > x_times\n",
    "    below_line = y_times < x_times\n",
    "    above_line_cnt = np.sum(above_line)\n",
    "    below_line_cnt = np.sum(below_line)\n",
    "\n",
    "    # Count edge cases EDUSAT got 1800 and EDUSAT-BVA got less and the opposite\n",
    "    y_edge_cases_wins = (x_times == max_time) & (y_times < max_time)\n",
    "    y_edge_cases_wins_cnt = np.sum(y_edge_cases_wins)\n",
    "    x_edge_cases_wins = (y_times == max_time) & (x_times < max_time)\n",
    "    x_edge_cases_wins_cnt = np.sum(x_edge_cases_wins)\n",
    "\n",
    "\n",
    "    # print(list(above_line))\n",
    "    # print(list(below_line))\n",
    "    # # Find equal entries in above_line and below_line and print their index and their values in x_times and y_times\n",
    "    # for i in range(len(list(x_times))):\n",
    "    #     if list(above_line)[i] == list(below_line)[i]:\n",
    "    #         print(f'Equal times: {list(x_times)[i]} and {list(y_times)[i]}')\n",
    "\n",
    "    # Printing overall points on the plot\n",
    "    ax.text(max_time * 0.8, max_time * 0.1, f'Total points: {len(x_times)}')\n",
    "    \n",
    "    # Printing counts instead of displaying on the graph\n",
    "    print(f'{x_key} better: {above_line_cnt} out of {len(x_times)} (Unique wins: {x_edge_cases_wins_cnt})')\n",
    "    print(f'{y_key} better: {below_line_cnt} out of {len(x_times)} (Unique wins: {y_edge_cases_wins_cnt})')\n",
    "\n",
    "    # Printing equality\n",
    "    # print(f'Equal times: {np.sum(x_times == y_times)} out of {len(x_times)}')\n",
    "    \n",
    "    ax.legend()\n",
    "    plt.show()"
   ]
  },
  {
   "cell_type": "code",
   "execution_count": null,
   "metadata": {},
   "outputs": [],
   "source": [
    "# Compare EDUSAT_solve_time with EDUSAT-BVA_solve_time\n",
    "scatter_plot(results_30m, 'EDUSAT_solve_time', 'EDUSAT-BVA_solve_time', \n",
    "             'EDUSAT Solve Time (s)', 'EDUSAT-BVA Solve Time (s)', \n",
    "             'EDUSAT vs EDUSAT-BVA Solve (30m Timeout)')\n",
    "# Compare EDUSAT_solve_time with EDUSAT-BVA_solve_time\n",
    "scatter_plot(results_60m, 'EDUSAT_solve_time', 'EDUSAT-BVA_solve_time', \n",
    "             'EDUSAT Solve Time (s)', 'EDUSAT-BVA Solve Time (s)', \n",
    "             'EDUSAT vs EDUSAT-BVA Solve (60m Timeout)')"
   ]
  },
  {
   "cell_type": "code",
   "execution_count": null,
   "metadata": {},
   "outputs": [],
   "source": [
    "# Commented out due to BVA-search time not being available in some 30m results\n",
    "\n",
    "# # Count the occasions in which EDUSAT-BVA_timeout is 1, this means that EDUSAT-BVA_search_time wasn't reached\n",
    "# print(f\"EDUSAT-BVA_search_time wasn't reached {results_30m['EDUSAT-BVA_timeout'].sum()} times out of {len(results_30m)}\")\n",
    "# scatter_plot(results_30m, 'EDUSAT_solve_time', 'EDUSAT-BVA_search_time', \n",
    "#              'EDUSAT Search Time (s)', 'EDUSAT-BVA Search Time (s)', \n",
    "#              'EDUSAT vs EDUSAT-BVA Search (30m Timeout)')\n",
    "\n",
    "# # Count the occasions in which EDUSAT-BVA_timeout is 1, this means that EDUSAT-BVA_search_time wasn't reached\n",
    "# print(f\"EDUSAT-BVA_search_time wasn't reached {results_60m['EDUSAT-BVA_timeout'].sum()} times out of {len(results_60m)}\")\n",
    "# scatter_plot(results_60m, 'EDUSAT_solve_time', 'EDUSAT-BVA_search_time', \n",
    "#              'EDUSAT Search Time (s)', 'EDUSAT-BVA Search Time (s)', \n",
    "#              'EDUSAT vs EDUSAT-BVA Search (60m Timeout)')"
   ]
  },
  {
   "cell_type": "markdown",
   "metadata": {},
   "source": [
    "We'll present the same scatter plots while filtering all the results under 10 seconds!"
   ]
  },
  {
   "cell_type": "code",
   "execution_count": null,
   "metadata": {},
   "outputs": [],
   "source": [
    "# Compare EDUSAT_solve_time with EDUSAT-BVA_solve_time\n",
    "scatter_plot(results_30m, 'EDUSAT_solve_time', 'EDUSAT-BVA_solve_time', \n",
    "             'EDUSAT Solve Time (s)', 'EDUSAT-BVA Solve Time (s)', \n",
    "             'EDUSAT vs EDUSAT-BVA Solve (30m Timeout)', min_time_filter=180)\n",
    "# Compare EDUSAT_solve_time with EDUSAT-BVA_solve_time\n",
    "scatter_plot(results_60m, 'EDUSAT_solve_time', 'EDUSAT-BVA_solve_time', \n",
    "             'EDUSAT Solve Time (s)', 'EDUSAT-BVA Solve Time (s)', \n",
    "             'EDUSAT vs EDUSAT-BVA Solve (60m Timeout)', min_time_filter=180)\n",
    "\n",
    "# Compare EDUSAT_solve_time with EDUSAT-BVA_search_time\n",
    "# print(f\"EDUSAT-BVA_search_time wasn't reached {results_30m['EDUSAT-BVA_timeout'].sum()} times out of {len(results_30m)}\")\n",
    "# scatter_plot(results_30m, 'EDUSAT_solve_time', 'EDUSAT-BVA_search_time', \n",
    "#              'EDUSAT Search Time (s)', 'EDUSAT-BVA Search Time (s)', \n",
    "#              'EDUSAT vs EDUSAT-BVA Search (30m Timeout)', min_time_filter=60)\n",
    "\n",
    "# print(f\"EDUSAT-BVA_search_time wasn't reached {results_60m['EDUSAT-BVA_timeout'].sum()} times out of {len(results_60m)}\")\n",
    "# scatter_plot(results_60m, 'EDUSAT_solve_time', 'EDUSAT-BVA_search_time', \n",
    "#              'EDUSAT Search Time (s)', 'EDUSAT-BVA Search Time (s)', \n",
    "#              'EDUSAT vs EDUSAT-BVA Search (60m Timeout)', min_time_filter=60)\n"
   ]
  },
  {
   "cell_type": "markdown",
   "metadata": {},
   "source": [
    "We'll present below the most notable gains and regressions"
   ]
  },
  {
   "cell_type": "code",
   "execution_count": null,
   "metadata": {},
   "outputs": [],
   "source": [
    "def print_rows(df, title):\n",
    "    # Rename only the specified columns\n",
    "    column_rename_map = {\n",
    "        'EDUSAT_solve_time': 'EDUSAT (s)',\n",
    "        'EDUSAT-BVA_solve_time': 'EDUSAT-BVA (s)',\n",
    "        'EDUSAT-BVA_clauses_reduced': 'Clauses Reduced',\n",
    "        'EDUSAT-BVA_auxiliary_variables': 'Extra Vars',\n",
    "        'EDUSAT-BVA_preprocessing_time': 'BVA Preprocessing Time',\n",
    "        'EDUSAT-BVA_search_time': 'BVA Search Time',\n",
    "        'Improvement Factor': 'Improvement Factor'\n",
    "    }\n",
    "\n",
    "    df.rename(columns=column_rename_map, inplace=True)\n",
    "\n",
    "    # Select only the renamed columns for display\n",
    "    selected_columns = list(column_rename_map.values())\n",
    "\n",
    "    display(\n",
    "        df[selected_columns]\n",
    "        .style.set_table_styles(\n",
    "            [\n",
    "                {\"selector\": \"th\", \"props\": [(\"text-align\", \"center\")]},  # Center headers\n",
    "                {\"selector\": \"td\", \"props\": [(\"text-align\", \"center\")]}   # Center cell values\n",
    "            ]\n",
    "        )\n",
    "        .set_caption(title)\n",
    "        .set_properties(**{\"text-align\": \"center\"})  # Ensure pandas recognizes the alignment\n",
    "    )"
   ]
  },
  {
   "cell_type": "code",
   "execution_count": null,
   "metadata": {},
   "outputs": [],
   "source": [
    "top_30m = results_30m.nlargest(10, 'Improvement Factor').copy()\n",
    "print_rows(top_30m, title='Top 10 Improvement Factors (30m Timeout)')\n",
    "\n",
    "top_60m = results_60m.nlargest(10, 'Improvement Factor').copy()\n",
    "print_rows(top_60m, title='Top 10 Improvement Factors (60m Timeout)')"
   ]
  },
  {
   "cell_type": "code",
   "execution_count": null,
   "metadata": {},
   "outputs": [],
   "source": [
    "bottom_30m = results_30m.nsmallest(10, 'Improvement Factor').copy()\n",
    "print_rows(bottom_30m, title='Bottom 10 Improvement Factors (30m Timeout)')"
   ]
  },
  {
   "cell_type": "markdown",
   "metadata": {},
   "source": [
    "Finally, we'll present average times statistics"
   ]
  },
  {
   "cell_type": "code",
   "execution_count": null,
   "metadata": {},
   "outputs": [],
   "source": [
    "def calculate_averages(results, title):\n",
    "    edusat_avg_solve_time = results['EDUSAT_solve_time'].mean()\n",
    "    edusat_bva_avg_search_time = results['EDUSAT-BVA_search_time'].mean()\n",
    "    edusat_bva_avg_preprocessing_time = results['EDUSAT-BVA_preprocessing_time'].mean()\n",
    "    edusat_bva_avg_solve_time = results['EDUSAT-BVA_solve_time'].mean()\n",
    "\n",
    "    print(f'[{title} - #tests: {len(results)}]')\n",
    "    print(f'    Average solve time for EDUSAT: {edusat_avg_solve_time:.2f} s')\n",
    "    print(f'    Average search time for EDUSAT+BVA: {edusat_bva_avg_search_time:.2f} s')\n",
    "    print(f'    Average preprocessing time for EDUSAT+BVA: {edusat_bva_avg_preprocessing_time:.2f} s')\n",
    "    print(f'    Average solve time for EDUSAT+BVA: {edusat_bva_avg_solve_time:.2f} s')\n",
    "\n",
    "# Example usage\n",
    "calculate_averages(results_30m, '30m Timeout Results')\n",
    "print('\\n')\n",
    "calculate_averages(results_60m, '60m Timeout Results')\n"
   ]
  }
 ],
 "metadata": {
  "kernelspec": {
   "display_name": "Python 3",
   "language": "python",
   "name": "python3"
  },
  "language_info": {
   "codemirror_mode": {
    "name": "ipython",
    "version": 3
   },
   "file_extension": ".py",
   "mimetype": "text/x-python",
   "name": "python",
   "nbconvert_exporter": "python",
   "pygments_lexer": "ipython3",
   "version": "3.9.6"
  }
 },
 "nbformat": 4,
 "nbformat_minor": 2
}
